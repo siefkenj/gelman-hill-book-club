{
 "cells": [
  {
   "cell_type": "markdown",
   "metadata": {},
   "source": [
    "# Gelman & Hill Chapter 2"
   ]
  },
  {
   "cell_type": "code",
   "execution_count": 31,
   "metadata": {},
   "outputs": [
    {
     "name": "stdout",
     "output_type": "stream",
     "text": [
      "Runing on PyMC3 v3.11.2\n"
     ]
    }
   ],
   "source": [
    "# import numpy and matplotlib\n",
    "import numpy as np\n",
    "import matplotlib.pylab as plt\n",
    "import urllib.request\n",
    "\n",
    "import arviz as az\n",
    "import matplotlib.pyplot as plt\n",
    "import numpy as np\n",
    "# For Bayesian inference\n",
    "import pymc3 as pm\n",
    "import pandas as pd\n",
    "# For classical inference\n",
    "import statsmodels.api as sm\n",
    "\n",
    "from bs4 import BeautifulSoup\n",
    "\n",
    "print(f\"Runing on PyMC3 v{pm.__version__}\")\n",
    "\n",
    "BASE_URL = \"https://stat.columbia.edu/~gelman/arm/examples/\"\n",
    "\n",
    "# We give the matplotlib instruction twice, because firefox sometimes gets upset if we don't.\n",
    "# note these `%`-commands are not actually Python commands. They are Jupyter-notebook-specific commands.\n",
    "%matplotlib notebook\n",
    "%matplotlib notebook"
   ]
  },
  {
   "cell_type": "code",
   "execution_count": 32,
   "metadata": {},
   "outputs": [
    {
     "data": {
      "text/plain": [
       "{'files': ['mtermgrades.txt'], 'dirs': []}"
      ]
     },
     "execution_count": 32,
     "metadata": {},
     "output_type": "execute_result"
    }
   ],
   "source": [
    "def get_example(path: str = \"\"):\n",
    "    \"\"\"Function to grab data from the samples listed on Gelman's website\"\"\"\n",
    "    with urllib.request.urlopen(BASE_URL + path) as f:\n",
    "        html = f.read().decode('utf-8')\n",
    "        mime_type = f.info().get_content_type()\n",
    "    \n",
    "    if mime_type == \"text/html\":\n",
    "        soup = BeautifulSoup(html, \"html.parser\")\n",
    "        ret = {\"files\": [], \"dirs\": []}\n",
    "        # Find all contents listed\n",
    "        for row in soup.find_all(\"tr\"):\n",
    "            elms = row.find_all(\"td\")\n",
    "            if len(elms) != 5:\n",
    "                continue\n",
    "            if elms[0].find(alt=\"[PARENTDIR]\"):\n",
    "                continue\n",
    "            if elms[0].find(alt=\"[DIR]\"):\n",
    "                a = row.find(href=True)\n",
    "                ret[\"dirs\"].append(a[\"href\"])\n",
    "            elif elms[0].find(alt=True):\n",
    "                a = row.find(href=True)\n",
    "                if not a[\"href\"].startswith(\"Icon\"):\n",
    "                    ret[\"files\"].append(a[\"href\"])\n",
    "        return ret\n",
    "    \n",
    "    return html\n",
    "\n",
    "get_example(\"exam\")"
   ]
  },
  {
   "cell_type": "code",
   "execution_count": null,
   "metadata": {},
   "outputs": [],
   "source": []
  },
  {
   "cell_type": "code",
   "execution_count": null,
   "metadata": {},
   "outputs": [],
   "source": []
  },
  {
   "cell_type": "code",
   "execution_count": null,
   "metadata": {},
   "outputs": [],
   "source": []
  }
 ],
 "metadata": {
  "kernelspec": {
   "display_name": "Python 3 (ipykernel)",
   "language": "python",
   "name": "python3"
  },
  "language_info": {
   "codemirror_mode": {
    "name": "ipython",
    "version": 3
   },
   "file_extension": ".py",
   "mimetype": "text/x-python",
   "name": "python",
   "nbconvert_exporter": "python",
   "pygments_lexer": "ipython3",
   "version": "3.9.16"
  }
 },
 "nbformat": 4,
 "nbformat_minor": 2
}
